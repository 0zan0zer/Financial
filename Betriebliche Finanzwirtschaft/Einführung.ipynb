{
 "cells": [
  {
   "cell_type": "code",
   "execution_count": 1,
   "id": "enclosed-ordering",
   "metadata": {},
   "outputs": [],
   "source": [
    "import matplotlib.pyplot as plt\n",
    "import numpy as np"
   ]
  },
  {
   "cell_type": "markdown",
   "id": "basic-presentation",
   "metadata": {},
   "source": [
    "# Betriebliche Finanzwirtschaft"
   ]
  },
  {
   "cell_type": "markdown",
   "id": "involved-alberta",
   "metadata": {},
   "source": [
    "# Drei Aufgaben des Finanzmanagers\n",
    "### Regel 2: cashflows in die Zukungft verschieben"
   ]
  },
  {
   "cell_type": "code",
   "execution_count": 2,
   "id": "altered-satellite",
   "metadata": {},
   "outputs": [],
   "source": [
    "# Wird ein Cashflow in die Zukunft verschoben, muss er aufgezinst werden.\n",
    "\n",
    "# Beispiel: Wir besitzen 1.000 EUR und möchten den gleichwertigen Betrag\n",
    "# in einem Jahr bestimmen. Der aktuelle Marktzinssatz betägt 10%.\n",
    "# Bir yıl sonraki değeri nedir?"
   ]
  },
  {
   "cell_type": "code",
   "execution_count": 3,
   "id": "ethical-blowing",
   "metadata": {},
   "outputs": [],
   "source": [
    "# Wir können CFx(1+r)^n Formel nutzen um zukunftige Werte zu kalkulieren.\n",
    "# Dieser Ansatz wird als \"Aufzinsen\" bezeichnet.\n",
    "def aufzinsen(CF, r, n):\n",
    "    \"\"\" CF*(1+r)^n \"\"\"\n",
    "    return CF*((1+r)**n)    "
   ]
  },
  {
   "cell_type": "code",
   "execution_count": 4,
   "id": "descending-sister",
   "metadata": {},
   "outputs": [
    {
     "data": {
      "text/plain": [
       "1100.0"
      ]
     },
     "execution_count": 4,
     "metadata": {},
     "output_type": "execute_result"
    }
   ],
   "source": [
    "aufzinsen(1000, 0.1, 1)"
   ]
  },
  {
   "cell_type": "code",
   "execution_count": 5,
   "id": "frequent-freeware",
   "metadata": {},
   "outputs": [
    {
     "data": {
      "text/plain": [
       "1331.0000000000005"
      ]
     },
     "execution_count": 5,
     "metadata": {},
     "output_type": "execute_result"
    }
   ],
   "source": [
    "aufzinsen(1000, 0.1, 3)"
   ]
  },
  {
   "cell_type": "code",
   "execution_count": 6,
   "id": "renewable-planet",
   "metadata": {},
   "outputs": [
    {
     "data": {
      "text/plain": [
       "117390.85287969578"
      ]
     },
     "execution_count": 6,
     "metadata": {},
     "output_type": "execute_result"
    }
   ],
   "source": [
    "aufzinsen(1000, 0.1, 50)"
   ]
  },
  {
   "cell_type": "code",
   "execution_count": 7,
   "id": "wrong-kitty",
   "metadata": {},
   "outputs": [
    {
     "data": {
      "text/plain": [
       "<matplotlib.collections.PathCollection at 0x23917d52850>"
      ]
     },
     "execution_count": 7,
     "metadata": {},
     "output_type": "execute_result"
    },
    {
     "data": {
      "image/png": "[encoded data removed]",
      "text/plain": [
       "<Figure size 432x288 with 1 Axes>"
      ]
     },
     "metadata": {
      "needs_background": "light"
     },
     "output_type": "display_data"
    }
   ],
   "source": [
    "y_axis = []\n",
    "for y in range(51):\n",
    "    y_axis.append(aufzinsen(1000, 0.1, y))\n",
    "    y_axis\n",
    "x_axis = []\n",
    "for x in range(51):\n",
    "    x_axis.append(x)\n",
    "plt.scatter(x_axis, y_axis)"
   ]
  },
  {
   "cell_type": "markdown",
   "id": "pursuant-service",
   "metadata": {},
   "source": [
    "### Regel 3: Cashflows in die Vergangenheit schieben"
   ]
  },
  {
   "cell_type": "code",
   "execution_count": 8,
   "id": "scenic-socket",
   "metadata": {},
   "outputs": [],
   "source": [
    "# Ein Cashflow muss zur Verschiebung in die Vergangenheit diskontiert werden.\n",
    "# Beispiel: wir möchten den heutigen von 1.000 EUR ermitteln, die wir in einem\n",
    "# Jahr erhalten (Zins: 10%).\n",
    "# Bir yıl önceki değeri nedir?\n",
    "def abzinsen(CF, r, n):\n",
    "    \"\"\" CF/(1+r)^n \"\"\"\n",
    "    return CF/(1+r)**n"
   ]
  },
  {
   "cell_type": "code",
   "execution_count": 9,
   "id": "theoretical-christian",
   "metadata": {},
   "outputs": [
    {
     "data": {
      "text/plain": [
       "909.090909090909"
      ]
     },
     "execution_count": 9,
     "metadata": {},
     "output_type": "execute_result"
    }
   ],
   "source": [
    "abzinsen(1000, 0.1, 1)"
   ]
  },
  {
   "cell_type": "code",
   "execution_count": 10,
   "id": "future-meaning",
   "metadata": {},
   "outputs": [
    {
     "data": {
      "text/plain": [
       "751.3148009015775"
      ]
     },
     "execution_count": 10,
     "metadata": {},
     "output_type": "execute_result"
    }
   ],
   "source": [
    "abzinsen(1000, 0.1, 3)"
   ]
  },
  {
   "cell_type": "code",
   "execution_count": 11,
   "id": "pleasant-ghost",
   "metadata": {},
   "outputs": [
    {
     "data": {
      "text/plain": [
       "8.518551279500606"
      ]
     },
     "execution_count": 11,
     "metadata": {},
     "output_type": "execute_result"
    }
   ],
   "source": [
    "abzinsen(1000, 0.1, 50)"
   ]
  },
  {
   "cell_type": "code",
   "execution_count": 12,
   "id": "chubby-yacht",
   "metadata": {},
   "outputs": [
    {
     "data": {
      "text/plain": [
       "<matplotlib.collections.PathCollection at 0x23917e605b0>"
      ]
     },
     "execution_count": 12,
     "metadata": {},
     "output_type": "execute_result"
    },
    {
     "data": {
      "image/png": "[encoded data removed]",
      "text/plain": [
       "<Figure size 432x288 with 1 Axes>"
      ]
     },
     "metadata": {
      "needs_background": "light"
     },
     "output_type": "display_data"
    }
   ],
   "source": [
    "y_axis = []\n",
    "for y in range(51):\n",
    "    y_axis.append(abzinsen(1000, 0.1, y))\n",
    "x_axis = []\n",
    "for x in range(51):\n",
    "    x_axis.append(x)\n",
    "plt.scatter(x_axis, y_axis)"
   ]
  },
  {
   "cell_type": "code",
   "execution_count": 13,
   "id": "configured-healthcare",
   "metadata": {},
   "outputs": [
    {
     "data": {
      "text/plain": [
       "-683.0134553650707"
      ]
     },
     "execution_count": 13,
     "metadata": {},
     "output_type": "execute_result"
    }
   ],
   "source": [
    "def kapitalwert_methode(CF, C, r, n):\n",
    "    summe = []\n",
    "    for cn in range(n+1):\n",
    "        if(cn==0):\n",
    "            summe.append(-abzinsen(CF,r,cn))\n",
    "        else:\n",
    "            summe.append(abzinsen(C,r,cn))\n",
    "    return sum(summe)\n",
    "\n",
    "kapitalwert_methode(1000,100,0.1,4)"
   ]
  },
  {
   "cell_type": "code",
   "execution_count": 14,
   "id": "weird-baking",
   "metadata": {},
   "outputs": [
    {
     "data": {
      "text/plain": [
       "-683.0134553650707"
      ]
     },
     "execution_count": 14,
     "metadata": {},
     "output_type": "execute_result"
    }
   ],
   "source": [
    "Frage_Deneme= -abzinsen(1000, 0.1, 0)+ abzinsen(100, 0.1, 1)+ abzinsen(100, 0.1, 2)+ abzinsen(100, 0.1, 3)+ abzinsen(100, 0.1, 4)\n",
    "Frage_Deneme"
   ]
  },
  {
   "cell_type": "markdown",
   "id": "absent-drink",
   "metadata": {},
   "source": [
    "### Aufgabe 1"
   ]
  },
  {
   "cell_type": "markdown",
   "id": "dried-assist",
   "metadata": {},
   "source": [
    "Sie arbeiten für Real Madrid (den Fußballverein) und sind dort als Finanzmanager angestellt. Im Rahmen Ihrer\n",
    "Aufgabe sollen Sie den folgenden Transfer beurteilen:\n",
    "\n",
    "- Sie können Hugo Mania – einen 17-jähriges Supertalent – heute für 2m EUR verpflichten\n",
    "- Die Verpflichtung wird sicher (unrealistisch!) zu Trikotverkäufen von  zusätzlich 750k EUR in den kommenden 4 Jahren führen (jeweils am Ende des Jahres).\n",
    "- Der Zinssatz beträgt 10%."
   ]
  },
  {
   "cell_type": "markdown",
   "id": "disabled-withdrawal",
   "metadata": {},
   "source": [
    "<b>Frage:</b> Was ist der NPV der Investition?"
   ]
  },
  {
   "cell_type": "code",
   "execution_count": 15,
   "id": "legitimate-medicaid",
   "metadata": {},
   "outputs": [
    {
     "name": "stdout",
     "output_type": "stream",
     "text": [
      "377399.0847619692\n"
     ]
    }
   ],
   "source": [
    "Frage_1 = -2000000 + abzinsen(750000, 0.1, 1) + abzinsen(750000, 0.1, 2) + abzinsen(750000, 0.1, 3) + abzinsen(750000, 0.1, 4)\n",
    "print(Frage_1)"
   ]
  },
  {
   "cell_type": "markdown",
   "id": "individual-driver",
   "metadata": {},
   "source": [
    "### Ewige Rente"
   ]
  },
  {
   "cell_type": "code",
   "execution_count": 16,
   "id": "foreign-peoples",
   "metadata": {},
   "outputs": [],
   "source": [
    "# Wert der diskontierten Cashflows wird im Zeitverlauf immer geringer.\n",
    "# Beitrag der Cashflows irgendwann vernachlässigbar."
   ]
  },
  {
   "cell_type": "markdown",
   "id": "dress-muscle",
   "metadata": {},
   "source": [
    "<b>Annahme: </b>\n",
    "- Cashflow: 1.000 EUR in die Ewigkeit\n",
    "- Zinsen: 10%"
   ]
  },
  {
   "cell_type": "code",
   "execution_count": 17,
   "id": "split-label",
   "metadata": {},
   "outputs": [
    {
     "data": {
      "text/plain": [
       "<matplotlib.collections.PathCollection at 0x23917ed8610>"
      ]
     },
     "execution_count": 17,
     "metadata": {},
     "output_type": "execute_result"
    },
    {
     "data": {
      "image/png": "[encoded data removed]",
      "text/plain": [
       "<Figure size 432x288 with 1 Axes>"
      ]
     },
     "metadata": {
      "needs_background": "light"
     },
     "output_type": "display_data"
    }
   ],
   "source": [
    "yy_axis = []\n",
    "y_axis = []\n",
    "x_axis = []\n",
    "for y in range(1,102):\n",
    "    summe = sum(yy_axis)\n",
    "    y_axis.append(summe)\n",
    "    yy_axis = []\n",
    "    for yy in range(y):\n",
    "        yy_axis.append(abzinsen(1000, 0.1, yy+1))\n",
    "for x in range(101):\n",
    "    x_axis.append(x)\n",
    "plt.scatter(x_axis, y_axis)"
   ]
  },
  {
   "cell_type": "code",
   "execution_count": 18,
   "id": "statewide-convertible",
   "metadata": {},
   "outputs": [],
   "source": [
    "# y_axis"
   ]
  },
  {
   "cell_type": "code",
   "execution_count": 19,
   "id": "popular-peripheral",
   "metadata": {},
   "outputs": [
    {
     "data": {
      "text/plain": [
       "<matplotlib.collections.PathCollection at 0x23917f36880>"
      ]
     },
     "execution_count": 19,
     "metadata": {},
     "output_type": "execute_result"
    },
    {
     "data": {
      "image/png": "[encoded data removed]",
      "text/plain": [
       "<Figure size 432x288 with 1 Axes>"
      ]
     },
     "metadata": {
      "needs_background": "light"
     },
     "output_type": "display_data"
    }
   ],
   "source": [
    "y_axis = []\n",
    "x_axis = []\n",
    "for y in range(0,101):\n",
    "    y_axis.append(abzinsen(1000, 0.1, y))\n",
    "for x in range(101):\n",
    "    x_axis.append(x)\n",
    "plt.scatter(x_axis, y_axis)"
   ]
  },
  {
   "cell_type": "code",
   "execution_count": 20,
   "id": "sitting-allocation",
   "metadata": {},
   "outputs": [],
   "source": [
    "# y_axis"
   ]
  },
  {
   "cell_type": "code",
   "execution_count": 21,
   "id": "bottom-music",
   "metadata": {},
   "outputs": [],
   "source": [
    "# Formel zur Berechnung einer ewigen Rente \n",
    "\n",
    "def ewige_rente(CF, r):\n",
    "    \"\"\"\" CF/r \"\"\"\n",
    "    return CF/r\n"
   ]
  },
  {
   "cell_type": "code",
   "execution_count": 22,
   "id": "greek-comparison",
   "metadata": {},
   "outputs": [
    {
     "data": {
      "text/plain": [
       "10000.0"
      ]
     },
     "execution_count": 22,
     "metadata": {},
     "output_type": "execute_result"
    }
   ],
   "source": [
    "ewige_rente(1000, 0.1)"
   ]
  },
  {
   "cell_type": "markdown",
   "id": "english-namibia",
   "metadata": {},
   "source": [
    "#### Intuition"
   ]
  },
  {
   "cell_type": "markdown",
   "id": "aggressive-premium",
   "metadata": {},
   "source": [
    "- Nehmen wir an, wir könnten 5% Zinsen auf 100 EUR verdienen, wenn wir diese in ein Bankkonto einzahlen\n",
    "- Jedes Jahr könnten wir demnach 5 EUR an Verzinsung verdienen\n",
    "- Nehmen wir an, dass wir die 5 EUR Zinsen abheben und die 100 EUR im Konto behalten\n",
    "- Wir könnten dann nächstes Jahr wieder 5 EUR verdienen, 100 EUR auf dem Konto belassen usw.\n",
    "- Wir hätten durch die Anlage von 100 EUR eine ewige Rente von 5 EUR abgebildet.\n",
    "- Der Preis für diesen ewigen Cashflow von 5 EUR betrug in diesem Fall der Anlage (= 100 EUR)."
   ]
  },
  {
   "cell_type": "markdown",
   "id": "magnetic-bennett",
   "metadata": {},
   "source": [
    "<b>Allgemeiner ausgedrückt:</b> der ewige Cashflow einer Investition beträgt"
   ]
  },
  {
   "cell_type": "markdown",
   "id": "arbitrary-school",
   "metadata": {},
   "source": [
    "<b>P = </b>initiale Investition\n",
    "<b>r = </b>Zinsen auf die initiale Investition"
   ]
  },
  {
   "cell_type": "code",
   "execution_count": 23,
   "id": "reasonable-longitude",
   "metadata": {},
   "outputs": [],
   "source": [
    "def intuition(P, r):\n",
    "    return r*P"
   ]
  },
  {
   "cell_type": "markdown",
   "id": "dominican-blackjack",
   "metadata": {},
   "source": [
    "<b>Barwert der Investition:</b>"
   ]
  },
  {
   "cell_type": "code",
   "execution_count": 24,
   "id": "understanding-laser",
   "metadata": {},
   "outputs": [],
   "source": [
    "def barwert_investition(CF, r):\n",
    "    return CF/r"
   ]
  },
  {
   "cell_type": "code",
   "execution_count": 25,
   "id": "rapid-single",
   "metadata": {},
   "outputs": [
    {
     "data": {
      "text/plain": [
       "1000.0"
      ]
     },
     "execution_count": 25,
     "metadata": {},
     "output_type": "execute_result"
    }
   ],
   "source": [
    "C = intuition(10000, 0.1)\n",
    "C"
   ]
  },
  {
   "cell_type": "code",
   "execution_count": 26,
   "id": "express-government",
   "metadata": {},
   "outputs": [
    {
     "data": {
      "text/plain": [
       "10000.0"
      ]
     },
     "execution_count": 26,
     "metadata": {},
     "output_type": "execute_result"
    }
   ],
   "source": [
    "barwert_investition(C, 0.1)"
   ]
  },
  {
   "cell_type": "markdown",
   "id": "accessible-catholic",
   "metadata": {},
   "source": [
    "### Geometrisch wachsende Ewige Rente\n",
    "Eine geometrisch wachsende ewige Rente ist ein Strom von Zahlungen, die für immer in regelmäßigen Abständen auftreten und mit einer konstanten Rate wachsen."
   ]
  },
  {
   "cell_type": "markdown",
   "id": "fresh-hypothetical",
   "metadata": {},
   "source": [
    "Beispiel für Anwendung:\n",
    "\n",
    "- Endwert einer Unternehmensbewertung\n",
    "\n",
    "<b>Illustration:</b> Zeitstrahl einer ewigen Rente von 100 USD mit einem Wachstum von 3% und Zinssatz beträgt %10."
   ]
  },
  {
   "cell_type": "code",
   "execution_count": 27,
   "id": "motivated-peninsula",
   "metadata": {},
   "outputs": [
    {
     "data": {
      "text/plain": [
       "<matplotlib.collections.PathCollection at 0x23917fa9790>"
      ]
     },
     "execution_count": 27,
     "metadata": {},
     "output_type": "execute_result"
    },
    {
     "data": {
      "image/png": "[encoded data removed]",
      "text/plain": [
       "<Figure size 432x288 with 1 Axes>"
      ]
     },
     "metadata": {
      "needs_background": "light"
     },
     "output_type": "display_data"
    }
   ],
   "source": [
    "yy_axis = []\n",
    "y_axis = []\n",
    "x_axis = []\n",
    "for y in range(1,102):\n",
    "    summe = sum(yy_axis)\n",
    "    y_axis.append(summe)\n",
    "    yy_axis = []\n",
    "    for yy in range(y):\n",
    "        yy_axis.append(abzinsen(aufzinsen(100,0.03,yy), 0.1, yy+1))\n",
    "for x in range(101):\n",
    "    x_axis.append(x)\n",
    "plt.scatter(x_axis, y_axis)"
   ]
  },
  {
   "cell_type": "code",
   "execution_count": 28,
   "id": "congressional-absorption",
   "metadata": {},
   "outputs": [],
   "source": [
    "# y_axis"
   ]
  },
  {
   "cell_type": "code",
   "execution_count": 29,
   "id": "suitable-airline",
   "metadata": {},
   "outputs": [],
   "source": [
    "def wachsende_ewige_rente(CF,r,g):\n",
    "    \"\"\"CF/(r-g)\"\"\"\n",
    "    return CF/(r-g)"
   ]
  },
  {
   "cell_type": "code",
   "execution_count": 30,
   "id": "acknowledged-christian",
   "metadata": {},
   "outputs": [
    {
     "data": {
      "text/plain": [
       "1428.5714285714284"
      ]
     },
     "execution_count": 30,
     "metadata": {},
     "output_type": "execute_result"
    }
   ],
   "source": [
    "wachsende_ewige_rente(100, 0.1, 0.03)"
   ]
  },
  {
   "cell_type": "markdown",
   "id": "addressed-snake",
   "metadata": {},
   "source": [
    "### Aufgabe 2\n",
    "\n",
    "Eine Bank bietet die folgende Investitionsmöglichkeit:\n",
    "- Sie zahlt Ihnen 5.000 EUR p.a. für die Jahre 1 bis 3\n",
    "- danach zahlt Sie Ihnen 1.000 EUR p.a. für eine unbegrenzte Zeit\n",
    "\n",
    "Die Bank möchte für diese Investitionsmöglichkeit 25.000 EUR von Ihnen. Der Zinssatz beträgt 10%. Würden Sie die Investition tätigen?\n",
    "\n",
    "Wie würde sich der Barwert der Investitionsmöglichkeit ändern, sofern die o.g. 1.000 EUR jedes Jahr um 5% wachsen würden?"
   ]
  },
  {
   "cell_type": "code",
   "execution_count": 31,
   "id": "greatest-america",
   "metadata": {},
   "outputs": [
    {
     "data": {
      "text/plain": [
       "-5052.592036063116"
      ]
     },
     "execution_count": 31,
     "metadata": {},
     "output_type": "execute_result"
    }
   ],
   "source": [
    "Frage_2_1 = kapitalwert_methode(25000,5000,0.1,3)+ abzinsen(ewige_rente(1000, 0.1), 0.1, 3)\n",
    "Frage_2_1"
   ]
  },
  {
   "cell_type": "code",
   "execution_count": 32,
   "id": "practical-evolution",
   "metadata": {},
   "outputs": [
    {
     "data": {
      "text/plain": [
       "2460.5559729526594"
      ]
     },
     "execution_count": 32,
     "metadata": {},
     "output_type": "execute_result"
    }
   ],
   "source": [
    "Frage_2_2= kapitalwert_methode(25000,5000,0.1,3)+ abzinsen(wachsende_ewige_rente(1000, 0.1, 0.05), 0.1, 3)\n",
    "Frage_2_2"
   ]
  },
  {
   "cell_type": "markdown",
   "id": "republican-november",
   "metadata": {},
   "source": [
    "## Annuitäten\n",
    "\n",
    "Eine Annuität ist ein Strom von N gleichen Cashflows, die in regelmäßigen Abständen bezahlt werden.\n",
    "\n",
    "Beispiele für Anwendungen\n",
    "- Kredit für Auto\n",
    "- Immobilienkredit\n",
    "- Anleihe"
   ]
  },
  {
   "cell_type": "code",
   "execution_count": 33,
   "id": "surgical-university",
   "metadata": {},
   "outputs": [],
   "source": [
    "def annuität(C, r, n):\n",
    "    return  (C/r)*(1-(1/(1+r)**n))"
   ]
  },
  {
   "cell_type": "code",
   "execution_count": 34,
   "id": "italic-boost",
   "metadata": {},
   "outputs": [
    {
     "data": {
      "text/plain": [
       "1246.2210342539993"
      ]
     },
     "execution_count": 34,
     "metadata": {},
     "output_type": "execute_result"
    }
   ],
   "source": [
    "annuität(100,0.05,20)"
   ]
  },
  {
   "cell_type": "code",
   "execution_count": 35,
   "id": "simplified-mediterranean",
   "metadata": {},
   "outputs": [
    {
     "data": {
      "text/plain": [
       "1246.2210342539981"
      ]
     },
     "execution_count": 35,
     "metadata": {},
     "output_type": "execute_result"
    }
   ],
   "source": [
    "kapitalwert_methode(0,100,0.05,20)"
   ]
  },
  {
   "cell_type": "markdown",
   "id": "liked-representative",
   "metadata": {},
   "source": [
    "### Aufgabe 3\n",
    "\n",
    "Sie gewinnen im Lotto und erhalten den Jackpot von 30m EUR. Die Lotterie gewährt Ihnen zwei\n",
    "Auszahlungsoptionen:\n",
    "- Sie erhalten 30 Zahlungen von 1m EUR p.a. (die erste Zahlung erhalten Sie heute)\n",
    "- Sie erhalten heute 15m EUR\n",
    "\n",
    "Der Zinssatz beträgt 10%.\n",
    "\n",
    "Welche Option wählen Sie?"
   ]
  },
  {
   "cell_type": "code",
   "execution_count": 36,
   "id": "decent-identification",
   "metadata": {},
   "outputs": [
    {
     "data": {
      "text/plain": [
       "5573085.533011679"
      ]
     },
     "execution_count": 36,
     "metadata": {},
     "output_type": "execute_result"
    }
   ],
   "source": [
    "Frage_3_1 =abzinsen(15000000, 0.1,0)- annuität(1000000,0.1,30)\n",
    "Frage_3_1"
   ]
  },
  {
   "cell_type": "code",
   "execution_count": 37,
   "id": "composite-termination",
   "metadata": {},
   "outputs": [],
   "source": [
    "# Man muss zweite Option wählen."
   ]
  },
  {
   "cell_type": "markdown",
   "id": "seeing-simple",
   "metadata": {},
   "source": [
    "### Aufgabe 4\n",
    "\n",
    "Sie sind ziemlich risikoavers und haben Sorge, dass Ihre Rente nicht genug sein könnte, um Ihren Lebensstandard zu halten. Sie beginnen deshalb heute, im Alter von 25 Jahren, 5.000 EUR p.a. in ein Sparbuch einzulegen.\n",
    "\n",
    "- Wenn der Zinssatz für Sparen bei 5% p.a. läge, wieviel hätten Sie mit 65 Jahren erspart?"
   ]
  },
  {
   "cell_type": "code",
   "execution_count": 38,
   "id": "parallel-whale",
   "metadata": {},
   "outputs": [
    {
     "data": {
      "text/plain": [
       "603998.8712124659"
      ]
     },
     "execution_count": 38,
     "metadata": {},
     "output_type": "execute_result"
    }
   ],
   "source": [
    "Erste_Schnitt = annuität(5000, 0.05, 40)\n",
    "aufzinsen(Erste_Schnitt, 0.05, 40)"
   ]
  },
  {
   "cell_type": "markdown",
   "id": "married-rebel",
   "metadata": {},
   "source": [
    "### Geometrisch wachsende Annuität\n",
    "\n",
    "Ist ein Strom von N in regelmäßigen Abständen gezahlten, geometrisch wachsenden Cashflows"
   ]
  },
  {
   "cell_type": "code",
   "execution_count": 39,
   "id": "level-review",
   "metadata": {},
   "outputs": [],
   "source": [
    "def wachsende_annuität(C,r,g,n):\n",
    "    return (C/(r-g))*(1-(((1+g)/(1+r))**n))"
   ]
  },
  {
   "cell_type": "code",
   "execution_count": 40,
   "id": "entire-twist",
   "metadata": {},
   "outputs": [
    {
     "data": {
      "text/plain": [
       "85795.43176997225"
      ]
     },
     "execution_count": 40,
     "metadata": {},
     "output_type": "execute_result"
    }
   ],
   "source": [
    "wachsende_annuität(5000, 0.05, 0, 40)"
   ]
  },
  {
   "cell_type": "markdown",
   "id": "blond-shoulder",
   "metadata": {},
   "source": [
    "### Aufgabe 5\n",
    "\n",
    "Sie wollen ein Haus kaufen, welches 500.000 EUR kostet. Leider haben Sie nur 100.000 EUR und müssen den\n",
    "restlichen Betrag via Immobilienkredit bei einer Bank finanzieren. Die Bank bietet Ihnen folgende Konditionen:\n",
    "\n",
    "- Laufzeit: 30 Jahre\n",
    "- Zinssatz: 2%\n",
    "- Zins und Tilgung: jährlich\n",
    "\n",
    "<b>Frage:</b> Was ist die jährliche Zahlung an Ihre Bank?"
   ]
  },
  {
   "cell_type": "code",
   "execution_count": 41,
   "id": "relative-exhibit",
   "metadata": {},
   "outputs": [
    {
     "data": {
      "text/plain": [
       "17859.968917361173"
      ]
     },
     "execution_count": 41,
     "metadata": {},
     "output_type": "execute_result"
    }
   ],
   "source": [
    "Aufgabe_5_C = 400000/((1/0.02)*(1-(1/(1.02)**30)))\n",
    "Aufgabe_5_C"
   ]
  },
  {
   "cell_type": "code",
   "execution_count": 42,
   "id": "isolated-vienna",
   "metadata": {},
   "outputs": [
    {
     "data": {
      "text/plain": [
       "400000.0"
      ]
     },
     "execution_count": 42,
     "metadata": {},
     "output_type": "execute_result"
    }
   ],
   "source": [
    "Check = annuität(Aufgabe_5_C,0.02,30)\n",
    "Check"
   ]
  },
  {
   "cell_type": "markdown",
   "id": "different-absorption",
   "metadata": {},
   "source": [
    "Nach Ihrem Studium an der TAU gründen Sie ein erfolgreiches Unternehmen und\n",
    "verdienen sehr viel Geld. Aus Dankbarkeit für die gute Ausbildung, entscheiden Sie sich etwas von Ihrem Geld zurückzugeben. Konkret entschließen Sie sich alle vier Jahre 2.5 Millionen TYR zu spenden. Von jetzt an werden Sie alle vier Jahre 2.5 Millionen TYR spenden.Nehmen Sie an, dass der effektive Jahreszins bei 5 % liegt."
   ]
  },
  {
   "cell_type": "code",
   "execution_count": 43,
   "id": "authorized-airline",
   "metadata": {},
   "outputs": [
    {
     "data": {
      "text/plain": [
       "11.3648762604059"
      ]
     },
     "execution_count": 43,
     "metadata": {},
     "output_type": "execute_result"
    }
   ],
   "source": [
    "abzinsen(2.5,0.05,0)+abzinsen(2.5,0.05,1)+abzinsen(2.5,0.05,2)+abzinsen(2.5,0.05,3)+abzinsen(2.5,0.05,4)"
   ]
  },
  {
   "cell_type": "markdown",
   "id": "typical-melissa",
   "metadata": {},
   "source": [
    "Ihr Unternehmen kann eine Maschine kaufen, die zu Kosteneinsparungen von 1.000 EUR am Ende des ersten Jahres führt. Danach werden die Kosteneinsparungen um jährlich zusätzlich um 2 % ansteigen. Der risikofreie Zinssatz liegt bei 5 %."
   ]
  },
  {
   "cell_type": "code",
   "execution_count": 44,
   "id": "moral-syria",
   "metadata": {},
   "outputs": [
    {
     "data": {
      "text/plain": [
       "33999.99999999999"
      ]
     },
     "execution_count": 44,
     "metadata": {},
     "output_type": "execute_result"
    }
   ],
   "source": [
    "abzinsen(1000,0.5,1)+wachsende_ewige_rente(1000,0.05,0.02)"
   ]
  },
  {
   "cell_type": "markdown",
   "id": "toxic-claim",
   "metadata": {},
   "source": [
    "Sie haben eine Firma, die in einem Jahr 1m EUR an Cashflows generiert hat. Sie treffen nun folgende Annahmen:\n",
    "\n",
    "- der Cashflow der Firma wird für die nächsten 5 Jahre um jährlich 30 % wachsen\n",
    "- der Cashflow der Firma wird nach den 5 Jahren nur noch um jährlich 3 % wachsen; dies gilt für die Ewigkeit.\n",
    "\n",
    "Unter der Annahme, dass der Zinssatz 8 % beträgt."
   ]
  },
  {
   "cell_type": "code",
   "execution_count": 45,
   "id": "sufficient-roller",
   "metadata": {},
   "outputs": [
    {
     "data": {
      "text/plain": [
       "46816990.516246274"
      ]
     },
     "execution_count": 45,
     "metadata": {},
     "output_type": "execute_result"
    }
   ],
   "source": [
    "abzinsen(1000000,0.08,0)+abzinsen(aufzinsen(1000000,0.3,0),0.08,1)+abzinsen(aufzinsen(1000000,0.3,1),0.08,2)+abzinsen(aufzinsen(1000000,0.3,2),0.08,3)+abzinsen(aufzinsen(1000000,0.3,3),0.08,4)+abzinsen(aufzinsen(1000000,0.3,4),0.08,5)+abzinsen(wachsende_ewige_rente(aufzinsen(1000000,0.3,4),0.08,0.03),0.08,5)"
   ]
  },
  {
   "cell_type": "markdown",
   "id": "pretty-appointment",
   "metadata": {},
   "source": [
    "Sie sehen folgende Werbung Ihrer Bank “Für eine einmalige Einzahlung von 30.000 EUR werden Sie von uns jährlich 2.000 EUR erhalten”. In der Detailbeschreibung erfahren Sie, dass die 2.000 EUR jährlich am Ende des Jahres gezahlt werden. Einen Auszahlungsstop gibt es auch dann nicht, wenn Sie sterben. Die Zahlung würde quasi für Ihre Erben weitergehen. Der risikofreie Zinssatz liegt bei 4 %."
   ]
  },
  {
   "cell_type": "code",
   "execution_count": 46,
   "id": "complete-commons",
   "metadata": {},
   "outputs": [
    {
     "data": {
      "text/plain": [
       "-25000.0"
      ]
     },
     "execution_count": 46,
     "metadata": {},
     "output_type": "execute_result"
    }
   ],
   "source": [
    "-30000+ewige_rente(2000,0.4)"
   ]
  },
  {
   "cell_type": "code",
   "execution_count": 47,
   "id": "macro-lover",
   "metadata": {},
   "outputs": [
    {
     "data": {
      "text/plain": [
       "161.05100000000004"
      ]
     },
     "execution_count": 47,
     "metadata": {},
     "output_type": "execute_result"
    }
   ],
   "source": []
  },
  {
   "cell_type": "code",
   "execution_count": null,
   "id": "running-copper",
   "metadata": {},
   "outputs": [],
   "source": []
  }
 ],
 "metadata": {
  "kernelspec": {
   "display_name": "Python 3",
   "language": "python",
   "name": "python3"
  },
  "language_info": {
   "codemirror_mode": {
    "name": "ipython",
    "version": 3
   },
   "file_extension": ".py",
   "mimetype": "text/x-python",
   "name": "python",
   "nbconvert_exporter": "python",
   "pygments_lexer": "ipython3",
   "version": "3.9.1"
  }
 },
 "nbformat": 4,
 "nbformat_minor": 5
}
