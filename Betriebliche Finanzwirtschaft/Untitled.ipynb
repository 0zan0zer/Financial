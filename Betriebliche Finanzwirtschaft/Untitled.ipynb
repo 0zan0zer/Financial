{
 "cells": [
  {
   "cell_type": "markdown",
   "id": "mediterranean-raleigh",
   "metadata": {},
   "source": [
    "# Kapitalstruktur Theorie"
   ]
  },
  {
   "cell_type": "markdown",
   "id": "intellectual-combine",
   "metadata": {},
   "source": [
    "## Irrelevanz der Kapitalstruktur: Modigliani/Miller 1958"
   ]
  },
  {
   "cell_type": "markdown",
   "id": "functional-clearance",
   "metadata": {},
   "source": [
    "Annahmen:\n",
    "\n",
    "- Entwickelt 1958 von Franco Modigliani und Merton Miller\n",
    "\n",
    "- Rationale Anleger\n",
    "\n",
    "- Vollkommener (und vollständiger) Kapitalmarkt\n",
    "\n",
    "- Insbesondere keine Transaktionskosten (z.B. Informationskosten, Steuern!)"
   ]
  },
  {
   "cell_type": "markdown",
   "id": "alone-mumbai",
   "metadata": {},
   "source": [
    "Ergebnis:\n",
    "\n",
    "- Der Wert eines Unternehmens ist unabhängig von seiner Kapitalstruktur! (Theorem 1)\n",
    "\n",
    "Herleitung über → <b> Arbitrage-Beweise </b>"
   ]
  },
  {
   "cell_type": "markdown",
   "id": "extra-commonwealth",
   "metadata": {},
   "source": [
    "### Beispiel für das Modigliani-Miller-Theorem"
   ]
  },
  {
   "cell_type": "markdown",
   "id": "little-valentine",
   "metadata": {},
   "source": [
    "Ausgangssituation:\n",
    "\n",
    "Das Unternehmen \"Bosporus Cruises\" ist zu 100% eigenfinanziert. Es hat 100.000 Aktien emittiert, welche derzeit zu einem Aktienkurs von 10 TRY pro Aktie notieren.\n",
    "\n",
    "- Wie hoch ist der Wert des Unternehmens ?"
   ]
  },
  {
   "cell_type": "markdown",
   "id": "every-trance",
   "metadata": {},
   "source": [
    "Barwert von Gesamt Kapital = Barwert von Eigenkapital + Barwert von Fremdkapital"
   ]
  },
  {
   "cell_type": "code",
   "execution_count": 29,
   "id": "statewide-canyon",
   "metadata": {},
   "outputs": [],
   "source": [
    "def BWGK(BWEK, BWFK):\n",
    "    return BWEK + BWFK"
   ]
  },
  {
   "cell_type": "code",
   "execution_count": 4,
   "id": "innocent-compound",
   "metadata": {},
   "outputs": [
    {
     "data": {
      "text/plain": [
       "1000000"
      ]
     },
     "execution_count": 4,
     "metadata": {},
     "output_type": "execute_result"
    }
   ],
   "source": [
    "BWEK = 10 * 100000\n",
    "BWFK = 0\n",
    "BWGK(BWEK, BWFK)"
   ]
  },
  {
   "cell_type": "markdown",
   "id": "integrated-knife",
   "metadata": {},
   "source": [
    "Nach Rekapitalisierung (finanzielle Restrukturierung):\n",
    "\n",
    "\"Bosporus Cruises\" entscheidet sich nun, 50.000 Aktien zurückzukaufen. Um den Aktienrückkauf zu finanzieren, emittiert das Unternehmen Anleihen im Wert von 0,5 Mio. TRY.\n",
    "\n",
    "- Wie hoch ist der Wert des Unternehmens?"
   ]
  },
  {
   "cell_type": "code",
   "execution_count": 5,
   "id": "rural-product",
   "metadata": {},
   "outputs": [
    {
     "data": {
      "text/plain": [
       "1000000"
      ]
     },
     "execution_count": 5,
     "metadata": {},
     "output_type": "execute_result"
    }
   ],
   "source": [
    "BWEK = 10 * 50000\n",
    "BWFK = 500000\n",
    "BWGK(BWEK, BWFK)"
   ]
  },
  {
   "cell_type": "markdown",
   "id": "optical-athletics",
   "metadata": {},
   "source": [
    "### Beispeil II"
   ]
  },
  {
   "cell_type": "markdown",
   "id": "trying-thought",
   "metadata": {},
   "source": [
    "Zu einem Unternehmen sind folgende Daten bekannt: Marktwert des\n",
    "Fremdkapitals 500.000 USD; Marktwert des Eigenkapitals 800.000 USD;\n",
    "gewichtete Renditeforderung der Eigen- und Fremd- kapitalgeber 12%;\n",
    "Verzinsung des Fremdkapitals (= Renditeforderung der Fremdkapitalgeber)\n",
    "9%."
   ]
  },
  {
   "cell_type": "markdown",
   "id": "stupid-hormone",
   "metadata": {},
   "source": [
    "Ermitteln Sie die erwartete Rendite der Eigenkapitalgeber für das\n",
    "Unternehmen."
   ]
  },
  {
   "cell_type": "code",
   "execution_count": 23,
   "id": "relevant-scanner",
   "metadata": {},
   "outputs": [],
   "source": [
    "def verschuldungsgrad(BWEK, BWFK):\n",
    "    return BWFK/BWEK"
   ]
  },
  {
   "cell_type": "code",
   "execution_count": 22,
   "id": "wireless-fantasy",
   "metadata": {},
   "outputs": [],
   "source": [
    "def rEK(rGK, rFK, BWEK, BWFK):\n",
    "    return rGK + (rGK - rFK) * (BWFK/BWEK)"
   ]
  },
  {
   "cell_type": "code",
   "execution_count": 24,
   "id": "vulnerable-toyota",
   "metadata": {},
   "outputs": [],
   "source": [
    "def rEK_show(rGK, rFK, BWEK, BWFK):\n",
    "    formula = rGK + (rGK - rFK) * (BWFK/BWEK)\n",
    "    var = f\"{rGK} + ({rGK} - {rFK}) * ({BWFK}/{BWEK}) = {formula}\"\n",
    "    return var"
   ]
  },
  {
   "cell_type": "code",
   "execution_count": 25,
   "id": "significant-stake",
   "metadata": {},
   "outputs": [
    {
     "data": {
      "text/plain": [
       "0.13874999999999998"
      ]
     },
     "execution_count": 25,
     "metadata": {},
     "output_type": "execute_result"
    }
   ],
   "source": [
    "rEK(0.12, 0.09, 800000, 500000)"
   ]
  },
  {
   "cell_type": "code",
   "execution_count": 26,
   "id": "handmade-emission",
   "metadata": {},
   "outputs": [
    {
     "data": {
      "text/plain": [
       "'0.12 + (0.12 - 0.09) * (500000/800000) = 0.13874999999999998'"
      ]
     },
     "execution_count": 26,
     "metadata": {},
     "output_type": "execute_result"
    }
   ],
   "source": [
    "rEK_show(0.12, 0.09, 800000, 500000)"
   ]
  },
  {
   "cell_type": "markdown",
   "id": "pressed-shell",
   "metadata": {},
   "source": [
    "### Beispiel III"
   ]
  },
  {
   "cell_type": "markdown",
   "id": "lyric-passenger",
   "metadata": {},
   "source": [
    "1. Die Muhasebe A.Ş. zur Zeit zu 100% eigenfinanziert. Die Anzahl der ausstehenden Aktien beläuft sich auf 10.000, der aktuelle Aktienkurs betragt 100 TRY. Die Gesellschaft überlegt, eine Rekapitalisierung durchzuführen. Das Finanzwesen der Muhasebe A.Ş, schlagt zwei Alternativen vor:\n",
    "a. Emission von Anleihen im Wert von 200.000 TRY und Rückkauf von Aktien in gleicher Höhe\n",
    "b. Emission von Anleihen im Wert von 400.000 TRY und Rückkauf von Aktien in gleicher Höhe\n",
    "\n",
    "Auf die Anleihen ist ein Zins von 10% zu zahlen.\n",
    "\n",
    "- Wie hoch ist der Verschuldungsgrad der Muhasebe A.Ş., wenn Rekapitaliserungsalternative 1 durchgeführt wird? Wie hoch ist er, wenn Rekapitaliserungsplan 2 umgesetzt wird?"
   ]
  },
  {
   "cell_type": "code",
   "execution_count": 30,
   "id": "sublime-waterproof",
   "metadata": {},
   "outputs": [
    {
     "data": {
      "text/plain": [
       "1000000"
      ]
     },
     "execution_count": 30,
     "metadata": {},
     "output_type": "execute_result"
    }
   ],
   "source": [
    "BWEK = 10000 * 100\n",
    "BWFK = 0\n",
    "BWGK(BWEK, BWFK)"
   ]
  },
  {
   "cell_type": "markdown",
   "id": "romantic-arkansas",
   "metadata": {},
   "source": [
    "#### Für a"
   ]
  },
  {
   "cell_type": "code",
   "execution_count": 32,
   "id": "accurate-bermuda",
   "metadata": {},
   "outputs": [
    {
     "data": {
      "text/plain": [
       "0.25"
      ]
     },
     "execution_count": 32,
     "metadata": {},
     "output_type": "execute_result"
    }
   ],
   "source": [
    "BWFK = 200000\n",
    "BWEK = 800000\n",
    "verschuldungsgrad(BWEK, BWFK)"
   ]
  },
  {
   "cell_type": "markdown",
   "id": "selected-procedure",
   "metadata": {},
   "source": [
    "#### Für b"
   ]
  },
  {
   "cell_type": "code",
   "execution_count": 34,
   "id": "general-laser",
   "metadata": {},
   "outputs": [
    {
     "data": {
      "text/plain": [
       "0.6666666666666666"
      ]
     },
     "execution_count": 34,
     "metadata": {},
     "output_type": "execute_result"
    }
   ],
   "source": [
    "BWFK = 400000\n",
    "BWEK = 600000\n",
    "verschuldungsgrad(BWEK, BWFK)"
   ]
  },
  {
   "cell_type": "markdown",
   "id": "preliminary-legislation",
   "metadata": {},
   "source": [
    "Nehmen Sie an, dass das betriebliche Ergebnis (Zahlungsüberschuss vor Zinsen und Steuern) der Muhasebe A.Ş. entweder 90.000 TRY oder 130.000 TRY betragen kann. Wie hoch sind die Gewinne (Dividende) pro Aktie in jedem Umweltzustand und für jeden Rekapitalisierungsplan? Wenn beide Szenarien gleich wahrscheinlich sind, wie hoch ist der erwartete Gewinn (Dividende) pro Aktie?"
   ]
  },
  {
   "cell_type": "code",
   "execution_count": null,
   "id": "induced-eleven",
   "metadata": {},
   "outputs": [],
   "source": []
  }
 ],
 "metadata": {
  "kernelspec": {
   "display_name": "Python 3",
   "language": "python",
   "name": "python3"
  },
  "language_info": {
   "codemirror_mode": {
    "name": "ipython",
    "version": 3
   },
   "file_extension": ".py",
   "mimetype": "text/x-python",
   "name": "python",
   "nbconvert_exporter": "python",
   "pygments_lexer": "ipython3",
   "version": "3.7.5"
  }
 },
 "nbformat": 4,
 "nbformat_minor": 5
}
